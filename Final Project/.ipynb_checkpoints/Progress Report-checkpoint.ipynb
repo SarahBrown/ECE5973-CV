{
 "cells": [
  {
   "cell_type": "markdown",
   "id": "excessive-theta",
   "metadata": {},
   "source": [
    "# ECE 5973 - Computer Vision\n",
    "## Progress Report\n",
    "### Sarah Brown\n",
    "\n",
    "#### Project Overview\n",
    "My goal for the final project is to be able to process a video stream of dice rolling into a tray to be able to display and sum the result. The dice of concern are a standard 7 polyhedral dice set.\n",
    "\n",
    "My goals for this progress report were:\n",
    "* Collect test images\n",
    "* Filter images to dice\n",
    "* Identify die type based on shape\n",
    "* Investigate packages to use to detect text on dice\n",
    "\n",
    "#### Project so far\n",
    "So far in this project I have managed to filter to the dice in a couple of different ways. The most effective way to filter to the die is with a CSV mask. This can be seen in the chunk below with a blue d12 die."
   ]
  },
  {
   "cell_type": "code",
   "execution_count": 1,
   "id": "affected-soldier",
   "metadata": {},
   "outputs": [
    {
     "data": {
      "text/plain": [
       "(<matplotlib.image.AxesImage at 0x7f03674efee0>, ([], []), ([], []))"
      ]
     },
     "execution_count": 1,
     "metadata": {},
     "output_type": "execute_result"
    },
    {
     "data": {
      "image/png": "[encoded data removed]",
      "text/plain": [
       "<Figure size 720x720 with 1 Axes>"
      ]
     },
     "metadata": {},
     "output_type": "display_data"
    }
   ],
   "source": [
    "from cv2 import cv2\n",
    "import numpy as np\n",
    "import imutils\n",
    "from matplotlib import pyplot as plt\n",
    "import cvui\n",
    "%matplotlib inline\n",
    "\n",
    "img = cv2.imread('/home/stars/Documents/CV/Final Project/testPics/test (2).jpg')\n",
    "img = cv2.resize(img, (0,0), fx=0.1, fy=0.1) \n",
    "\n",
    "lower = np.array([89,0,0])\n",
    "upper = np.array([179,255,255])\n",
    "\n",
    "hsv = cv2.cvtColor(img, cv2.COLOR_BGR2HSV)\n",
    "mask = cv2.inRange(hsv, lower, upper)\n",
    "\n",
    "applyMask = cv2.bitwise_and(img, img, mask=mask)\n",
    "applyMaskRGB = cv2.cvtColor(applyMask, cv2.COLOR_BGR2RGB)\n",
    "\n",
    "plt.figure(figsize=(10,10))\n",
    "plt.imshow(applyMaskRGB), plt.xticks([]), plt.yticks([])"
   ]
  },
  {
   "cell_type": "markdown",
   "id": "straight-syracuse",
   "metadata": {},
   "source": [
    "However, this type of filtering can have issues depending on the lighting and needs to be adjusted depending on the color of the die. \n",
    "\n",
    "I wanted to try and have a filter that was applicable no matter the lighting or die type. However, this has proven to be challenging and still needs improvement. Currently I have it so I can identify a d12 or a d6 from a still image. This can be seen in the chunk below. \n",
    "\n",
    "I applied the filter and identifying method seen in the chunk below to a realtime video stream. This had mixed results as it was constantly updating. I plan to change this so that it only updates if there is movement in the frame. As the webcam I am currently using has random autofocus this may be challenging."
   ]
  },
  {
   "cell_type": "code",
   "execution_count": 2,
   "id": "short-tours",
   "metadata": {},
   "outputs": [
    {
     "ename": "NameError",
     "evalue": "name 'cnt' is not defined",
     "output_type": "error",
     "traceback": [
      "\u001b[0;31m---------------------------------------------------------------------------\u001b[0m",
      "\u001b[0;31mNameError\u001b[0m                                 Traceback (most recent call last)",
      "\u001b[0;32m<ipython-input-2-0bced8551620>\u001b[0m in \u001b[0;36m<module>\u001b[0;34m\u001b[0m\n\u001b[1;32m     55\u001b[0m \u001b[0md6\u001b[0m \u001b[0;34m=\u001b[0m \u001b[0mcv2\u001b[0m\u001b[0;34m.\u001b[0m\u001b[0mimread\u001b[0m\u001b[0;34m(\u001b[0m\u001b[0;34m\"/home/stars/Documents/CV/Final Project/testPics/test (17).jpg\"\u001b[0m\u001b[0;34m)\u001b[0m\u001b[0;34m\u001b[0m\u001b[0;34m\u001b[0m\u001b[0m\n\u001b[1;32m     56\u001b[0m \u001b[0md12Type\u001b[0m \u001b[0;34m=\u001b[0m \u001b[0mdieShape\u001b[0m\u001b[0;34m(\u001b[0m\u001b[0md12\u001b[0m\u001b[0;34m)\u001b[0m\u001b[0;34m\u001b[0m\u001b[0;34m\u001b[0m\u001b[0m\n\u001b[0;32m---> 57\u001b[0;31m \u001b[0md6Type\u001b[0m \u001b[0;34m=\u001b[0m \u001b[0mdieShape\u001b[0m\u001b[0;34m(\u001b[0m\u001b[0md6\u001b[0m\u001b[0;34m)\u001b[0m\u001b[0;34m\u001b[0m\u001b[0;34m\u001b[0m\u001b[0m\n\u001b[0m",
      "\u001b[0;32m<ipython-input-2-0bced8551620>\u001b[0m in \u001b[0;36mdieShape\u001b[0;34m(img)\u001b[0m\n\u001b[1;32m     46\u001b[0m                 \u001b[0mcx\u001b[0m \u001b[0;34m=\u001b[0m \u001b[0;36m0\u001b[0m\u001b[0;34m\u001b[0m\u001b[0;34m\u001b[0m\u001b[0m\n\u001b[1;32m     47\u001b[0m                 \u001b[0mcy\u001b[0m \u001b[0;34m=\u001b[0m \u001b[0;36m0\u001b[0m\u001b[0;34m\u001b[0m\u001b[0;34m\u001b[0m\u001b[0m\n\u001b[0;32m---> 48\u001b[0;31m             \u001b[0mshape\u001b[0m\u001b[0;34m=\u001b[0m\u001b[0mdetectShape\u001b[0m\u001b[0;34m(\u001b[0m\u001b[0mapprox\u001b[0m\u001b[0;34m)\u001b[0m\u001b[0;34m\u001b[0m\u001b[0;34m\u001b[0m\u001b[0m\n\u001b[0m\u001b[1;32m     49\u001b[0m             \u001b[0mcv2\u001b[0m\u001b[0;34m.\u001b[0m\u001b[0mdrawContours\u001b[0m\u001b[0;34m(\u001b[0m\u001b[0mfirstPass\u001b[0m\u001b[0;34m,\u001b[0m\u001b[0;34m[\u001b[0m\u001b[0mapprox\u001b[0m\u001b[0;34m]\u001b[0m\u001b[0;34m,\u001b[0m\u001b[0;34m-\u001b[0m\u001b[0;36m1\u001b[0m\u001b[0;34m,\u001b[0m\u001b[0;34m(\u001b[0m\u001b[0;36m0\u001b[0m\u001b[0;34m,\u001b[0m\u001b[0;36m255\u001b[0m\u001b[0;34m,\u001b[0m\u001b[0;36m0\u001b[0m\u001b[0;34m)\u001b[0m\u001b[0;34m,\u001b[0m\u001b[0;36m2\u001b[0m\u001b[0;34m)\u001b[0m\u001b[0;34m\u001b[0m\u001b[0;34m\u001b[0m\u001b[0m\n\u001b[1;32m     50\u001b[0m             \u001b[0mcv2\u001b[0m\u001b[0;34m.\u001b[0m\u001b[0mputText\u001b[0m\u001b[0;34m(\u001b[0m\u001b[0mfirstPass\u001b[0m\u001b[0;34m,\u001b[0m\u001b[0mshape\u001b[0m\u001b[0;34m,\u001b[0m\u001b[0;34m(\u001b[0m\u001b[0mcx\u001b[0m\u001b[0;34m,\u001b[0m\u001b[0mcy\u001b[0m\u001b[0;34m)\u001b[0m\u001b[0;34m,\u001b[0m\u001b[0mcv2\u001b[0m\u001b[0;34m.\u001b[0m\u001b[0mFONT_HERSHEY_SIMPLEX\u001b[0m\u001b[0;34m,\u001b[0m\u001b[0;36m0.5\u001b[0m\u001b[0;34m,\u001b[0m\u001b[0;34m(\u001b[0m\u001b[0;36m0\u001b[0m\u001b[0;34m,\u001b[0m\u001b[0;36m0\u001b[0m\u001b[0;34m,\u001b[0m\u001b[0;36m0\u001b[0m\u001b[0;34m)\u001b[0m\u001b[0;34m,\u001b[0m\u001b[0;36m2\u001b[0m\u001b[0;34m)\u001b[0m\u001b[0;34m\u001b[0m\u001b[0;34m\u001b[0m\u001b[0m\n",
      "\u001b[0;32m<ipython-input-2-0bced8551620>\u001b[0m in \u001b[0;36mdetectShape\u001b[0;34m(c)\u001b[0m\n\u001b[1;32m      7\u001b[0m             \u001b[0mshape\u001b[0m\u001b[0;34m=\u001b[0m\u001b[0;34m'triangle'\u001b[0m\u001b[0;34m\u001b[0m\u001b[0;34m\u001b[0m\u001b[0m\n\u001b[1;32m      8\u001b[0m        \u001b[0;32melif\u001b[0m\u001b[0;34m(\u001b[0m\u001b[0msides\u001b[0m\u001b[0;34m==\u001b[0m\u001b[0;36m4\u001b[0m\u001b[0;34m)\u001b[0m\u001b[0;34m:\u001b[0m\u001b[0;34m\u001b[0m\u001b[0;34m\u001b[0m\u001b[0m\n\u001b[0;32m----> 9\u001b[0;31m              \u001b[0mx\u001b[0m\u001b[0;34m,\u001b[0m\u001b[0my\u001b[0m\u001b[0;34m,\u001b[0m\u001b[0mw\u001b[0m\u001b[0;34m,\u001b[0m\u001b[0mh\u001b[0m\u001b[0;34m=\u001b[0m\u001b[0mcv2\u001b[0m\u001b[0;34m.\u001b[0m\u001b[0mboundingRect\u001b[0m\u001b[0;34m(\u001b[0m\u001b[0mcnt\u001b[0m\u001b[0;34m)\u001b[0m\u001b[0;34m\u001b[0m\u001b[0;34m\u001b[0m\u001b[0m\n\u001b[0m\u001b[1;32m     10\u001b[0m              \u001b[0maspectratio\u001b[0m\u001b[0;34m=\u001b[0m\u001b[0mfloat\u001b[0m\u001b[0;34m(\u001b[0m\u001b[0mw\u001b[0m\u001b[0;34m)\u001b[0m\u001b[0;34m/\u001b[0m\u001b[0mh\u001b[0m\u001b[0;34m\u001b[0m\u001b[0;34m\u001b[0m\u001b[0m\n\u001b[1;32m     11\u001b[0m              \u001b[0;32mif\u001b[0m \u001b[0;34m(\u001b[0m\u001b[0maspectratio\u001b[0m\u001b[0;34m==\u001b[0m\u001b[0;36m1\u001b[0m\u001b[0;34m)\u001b[0m\u001b[0;34m:\u001b[0m\u001b[0;34m\u001b[0m\u001b[0;34m\u001b[0m\u001b[0m\n",
      "\u001b[0;31mNameError\u001b[0m: name 'cnt' is not defined"
     ]
    }
   ],
   "source": [
    "def detectShape(c):          \n",
    "       shape = 'unknown' \n",
    "       peri=cv2.arcLength(c,True) \n",
    "       vertices = cv2.approxPolyDP(c, 0.02 * peri, True)\n",
    "       sides = len(vertices) \n",
    "       if (sides == 3): \n",
    "            shape='triangle' \n",
    "       elif(sides==4): \n",
    "             x,y,w,h=cv2.boundingRect(c)\n",
    "             aspectratio=float(w)/h \n",
    "             if (aspectratio==1):\n",
    "                   shape='d6'\n",
    "             else:\n",
    "                   shape=\"d6\" \n",
    "       elif(sides==7): \n",
    "            shape='d12' \n",
    "       else:\n",
    "           shape='circle' \n",
    "       return shape \n",
    "\n",
    "def dieShape(img):\n",
    "    imgGray = cv2.cvtColor(img, cv2.COLOR_BGR2GRAY)\n",
    "    imgNoise = cv2.medianBlur(imgGray,3)\n",
    "    imgBlur = cv2.GaussianBlur(imgNoise,(3,3),0)\n",
    "    imgCanny = cv2.Canny(imgBlur, 0, 255)\n",
    "\n",
    "    cnts = cv2.findContours(imgCanny.copy(), cv2.RETR_EXTERNAL,\n",
    "        cv2.CHAIN_APPROX_SIMPLE)\n",
    "    cnts = imutils.grab_contours(cnts)\n",
    "\n",
    "    ret,thresh = cv2.threshold(imgCanny,200,225,1)\n",
    "    contours,h = cv2.findContours(thresh,1,2)\n",
    "\n",
    "    firstPass = img.copy()\n",
    "\n",
    "    for cnt in cnts:\n",
    "        if cv2.arcLength(cnt,False) > 0 and cv2.arcLength(cnt,False) < 300:\n",
    "            accuracy = 0.03*cv2.arcLength(cnt,True)\n",
    "            approx = cv2.approxPolyDP(cnt, accuracy, True)\n",
    "\n",
    "            moment=cv2.moments(approx) \n",
    "            if moment[\"m00\"] != 0:\n",
    "                cx = int(moment['m10'] / moment['m00']) \n",
    "                cy = int(moment['m01'] / moment['m00'])\n",
    "            else:\n",
    "                cx = 0\n",
    "                cy = 0\n",
    "            shape=detectShape(approx) \n",
    "            cv2.drawContours(firstPass,[approx],-1,(0,255,0),2)\n",
    "            cv2.putText(firstPass,shape,(cx,cy),cv2.FONT_HERSHEY_SIMPLEX,0.5,(0,0,0),2)\n",
    "\n",
    "    return(firstPass)\n",
    "\n",
    "d12 = cv2.imread(\"/home/stars/Documents/CV/Final Project/testPics/test (16).jpg\")\n",
    "d6 = cv2.imread(\"/home/stars/Documents/CV/Final Project/testPics/test (17).jpg\")\n",
    "d12Type = dieShape(d12)\n",
    "d6Type = dieShape(d6)\n"
   ]
  },
  {
   "cell_type": "code",
   "execution_count": null,
   "id": "finite-verse",
   "metadata": {},
   "outputs": [],
   "source": [
    "d12RGB = cv2.cvtColor(d12, cv2.COLOR_BGR2RGB)\n",
    "d12TypeRGB = cv2.cvtColor(d12Type, cv2.COLOR_BGR2RGB)\n",
    "d6RGB = cv2.cvtColor(d6, cv2.COLOR_BGR2RGB)\n",
    "d6TypeRGB = cv2.cvtColor(d6Type, cv2.COLOR_BGR2RGB)\n",
    "\n",
    "plt.figure(figsize=(100,100))\n",
    "plt.subplot(121), plt.imshow(d12RGB), plt.title(\"Input d12\"), plt.xticks([]), plt.yticks([])\n",
    "plt.subplot(122), plt.imshow(d12TypeRGB), plt.title(\"d12 Type\"), plt.xticks([]), plt.yticks([])\n",
    "plt.figure(figsize=(100,100))\n",
    "plt.subplot(221), plt.imshow(d6RGB), plt.title(\"Input d6\"), plt.xticks([]), plt.yticks([])\n",
    "plt.subplot(222), plt.imshow(d6TypeRGB), plt.title(\"d6 Type\"), plt.xticks([]), plt.yticks([])"
   ]
  },
  {
   "cell_type": "markdown",
   "id": "valuable-kelly",
   "metadata": {},
   "source": [
    "By identifying the type of die before reading the number off of it, this gives a range for the expected value. This will provide help when trying to identify a potentially 2 digit number from a d10, d12, d20, or d% as compared to a 1 digit number from a d4, d6, or d8. \n",
    "\n",
    "I am still currently unsure if it will be possible to identify a d4 other as the number on a d4 is usually at the top of the die and thus unviewable.\n",
    "\n",
    "#### Next Steps\n",
    "\n",
    "Proceeding forward I need to make adjustments to the realtime filtering so that it only tries to classify dice once after movement has stopped after being rolled. \n",
    "\n",
    "I also want to look into Hough Circle Transforms to see if there is a more efficient way to filter dice to achieve a smoother result.\n",
    "\n",
    "In addition, after the dice have been identified I need to process the text on the dice and sum the results. I plan to try text recognition with Tesseract. Depending on how this works, I may switch to using the Google Cloud API. However, as this has to be run on the Google Cloud platform I want to try and avoid that if possible.\n",
    "\n",
    "In summary, my next goals are:\n",
    "* Filter realtime video\n",
    "* Change video so that it only filters dice after they have been rolled\n",
    "* Identify dice type from video \n",
    "* Read number off of the identified dice\n",
    "* Sum numbers of rolled dice"
   ]
  }
 ],
 "metadata": {
  "kernelspec": {
   "display_name": "Python 3",
   "language": "python",
   "name": "python3"
  },
  "language_info": {
   "codemirror_mode": {
    "name": "ipython",
    "version": 3
   },
   "file_extension": ".py",
   "mimetype": "text/x-python",
   "name": "python",
   "nbconvert_exporter": "python",
   "pygments_lexer": "ipython3",
   "version": "3.8.5"
  }
 },
 "nbformat": 4,
 "nbformat_minor": 5
}
